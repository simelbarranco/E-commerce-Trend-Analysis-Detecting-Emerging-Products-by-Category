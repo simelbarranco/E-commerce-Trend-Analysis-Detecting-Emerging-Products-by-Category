{
 "cells": [
  {
   "cell_type": "markdown",
   "id": "225a74ab",
   "metadata": {},
   "source": [
    "## Ingeniería de Big Data | Unidad 3 - Actividad 1 | UNICARIBE\n",
    "- Identifica temas en auge por región y momento analizando análisis de hashtags en Twitter."
   ]
  },
  {
   "cell_type": "code",
   "execution_count": null,
   "id": "1e353a31",
   "metadata": {
    "vscode": {
     "languageId": "plaintext"
    }
   },
   "outputs": [],
   "source": []
  }
 ],
 "metadata": {
  "kernelspec": {
   "display_name": "base",
   "language": "python",
   "name": "python3"
  },
  "language_info": {
   "codemirror_mode": {
    "name": "ipython",
    "version": 3
   },
   "file_extension": ".py",
   "mimetype": "text/x-python",
   "name": "python",
   "nbconvert_exporter": "python",
   "pygments_lexer": "ipython3",
   "version": "3.13.5"
  }
 },
 "nbformat": 4,
 "nbformat_minor": 5
}
