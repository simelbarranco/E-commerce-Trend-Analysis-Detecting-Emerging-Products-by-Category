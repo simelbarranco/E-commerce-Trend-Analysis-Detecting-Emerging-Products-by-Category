{
 "cells": [
  {
   "cell_type": "markdown",
   "id": "225a74ab",
   "metadata": {},
   "source": [
    "## Ingeniería de Big Data | Unidad 3 - Actividad 1 | UNICARIBE\n",
    "- Identifica temas en auge por región y momento analizando análisis de hashtags en Twitter."
   ]
  },
  {
   "cell_type": "code",
   "execution_count": null,
   "id": "1e353a31",
   "metadata": {},
   "outputs": [
    {
     "data": {
      "text/html": [
       "<div>\n",
       "<style scoped>\n",
       "    .dataframe tbody tr th:only-of-type {\n",
       "        vertical-align: middle;\n",
       "    }\n",
       "\n",
       "    .dataframe tbody tr th {\n",
       "        vertical-align: top;\n",
       "    }\n",
       "\n",
       "    .dataframe thead th {\n",
       "        text-align: right;\n",
       "    }\n",
       "</style>\n",
       "<table border=\"1\" class=\"dataframe\">\n",
       "  <thead>\n",
       "    <tr style=\"text-align: right;\">\n",
       "      <th></th>\n",
       "      <th>id</th>\n",
       "      <th>fecha</th>\n",
       "      <th>region</th>\n",
       "      <th>evento</th>\n",
       "      <th>palabra_clave</th>\n",
       "      <th>interes</th>\n",
       "    </tr>\n",
       "  </thead>\n",
       "  <tbody>\n",
       "    <tr>\n",
       "      <th>0</th>\n",
       "      <td>1</td>\n",
       "      <td>2020-03-15</td>\n",
       "      <td>Estados Unidos</td>\n",
       "      <td>Inicio pandemia COVID-19</td>\n",
       "      <td>coronavirus</td>\n",
       "      <td>100</td>\n",
       "    </tr>\n",
       "    <tr>\n",
       "      <th>1</th>\n",
       "      <td>2</td>\n",
       "      <td>2020-03-15</td>\n",
       "      <td>España</td>\n",
       "      <td>Inicio pandemia COVID-19</td>\n",
       "      <td>coronavirus</td>\n",
       "      <td>98</td>\n",
       "    </tr>\n",
       "    <tr>\n",
       "      <th>2</th>\n",
       "      <td>3</td>\n",
       "      <td>2020-03-15</td>\n",
       "      <td>Italia</td>\n",
       "      <td>Inicio pandemia COVID-19</td>\n",
       "      <td>coronavirus</td>\n",
       "      <td>95</td>\n",
       "    </tr>\n",
       "    <tr>\n",
       "      <th>3</th>\n",
       "      <td>4</td>\n",
       "      <td>2020-03-15</td>\n",
       "      <td>Francia</td>\n",
       "      <td>Inicio pandemia COVID-19</td>\n",
       "      <td>coronavirus</td>\n",
       "      <td>92</td>\n",
       "    </tr>\n",
       "    <tr>\n",
       "      <th>4</th>\n",
       "      <td>5</td>\n",
       "      <td>2020-03-15</td>\n",
       "      <td>Reino Unido</td>\n",
       "      <td>Inicio pandemia COVID-19</td>\n",
       "      <td>coronavirus</td>\n",
       "      <td>89</td>\n",
       "    </tr>\n",
       "  </tbody>\n",
       "</table>\n",
       "</div>"
      ],
      "text/plain": [
       "   id       fecha          region                    evento palabra_clave  \\\n",
       "0   1  2020-03-15  Estados Unidos  Inicio pandemia COVID-19   coronavirus   \n",
       "1   2  2020-03-15          España  Inicio pandemia COVID-19   coronavirus   \n",
       "2   3  2020-03-15          Italia  Inicio pandemia COVID-19   coronavirus   \n",
       "3   4  2020-03-15         Francia  Inicio pandemia COVID-19   coronavirus   \n",
       "4   5  2020-03-15     Reino Unido  Inicio pandemia COVID-19   coronavirus   \n",
       "\n",
       "   interes  \n",
       "0      100  \n",
       "1       98  \n",
       "2       95  \n",
       "3       92  \n",
       "4       89  "
      ]
     },
     "execution_count": 36,
     "metadata": {},
     "output_type": "execute_result"
    }
   ],
   "source": [
    "# ============================================\n",
    "#     Importando Librerias y Cargando Datos\n",
    "# ============================================\n",
    "\n",
    "import pandas as pd\n",
    "import matplotlib.pyplot as plt\n",
    "import seaborn as sns\n",
    "from datetime import datetime\n",
    "\n",
    "plt.style.use(\"seaborn-v0_8\")\n",
    "sns.set_palette(\"deep\")\n",
    "\n",
    "data_path = \"../data/dataset.csv\"\n",
    "df = pd.read_csv(data_path)\n",
    "\n",
    "df.head()"
   ]
  },
  {
   "cell_type": "code",
   "execution_count": 37,
   "id": "6e50e465",
   "metadata": {},
   "outputs": [
    {
     "name": "stdout",
     "output_type": "stream",
     "text": [
      "\n",
      "Interés promedio por evento:\n"
     ]
    },
    {
     "data": {
      "text/plain": [
       "evento\n",
       "Aniversario 6 enero                  85.000000\n",
       "Asalto al Capitolio                  83.333333\n",
       "Ataque de Hamas                      89.500000\n",
       "Atentado Moscú                       97.500000\n",
       "Atentado contra Trump                95.000000\n",
       "Año Nuevo 2025                       88.000000\n",
       "Biden se retira                      92.333333\n",
       "Caos en Cámara de Representantes     96.000000\n",
       "Caída de Assad                       92.333333\n",
       "Caída de Kabul                       93.000000\n",
       "Colapso Silicon Valley Bank          89.666667\n",
       "Colapso puente Baltimore             96.000000\n",
       "Compra Twitter por Musk              94.500000\n",
       "Conflicto Israel-Gaza                92.000000\n",
       "Coronación del Rey Carlos III        93.333333\n",
       "Disturbios en UK                     89.333333\n",
       "Elecciones intermedias 2022          92.500000\n",
       "Elecciones presidenciales 2020       84.200000\n",
       "Elecciones presidenciales 2024       97.500000\n",
       "Explosión Beirut                     99.000000\n",
       "Final Mundial Qatar                  92.500000\n",
       "Globo espía chino                    97.500000\n",
       "Hundimiento Moskva                   89.000000\n",
       "Inauguración Biden                   92.500000\n",
       "Inauguración Trump                   90.000000\n",
       "Incendios Maui                       96.666667\n",
       "Inicio pandemia COVID-19             89.133333\n",
       "Invasión rusa a Ucrania              89.666667\n",
       "Lanzamiento ChatGPT turbo            87.666667\n",
       "Llegada de Omicron                   93.000000\n",
       "Motín de Wagner                      87.666667\n",
       "Muerte Navalny                      100.000000\n",
       "Muerte de Navalny                    91.000000\n",
       "Muerte de Raisi                      97.500000\n",
       "Muerte de la Reina Isabel II         93.750000\n",
       "Mundial de Fútbol Qatar 2022         94.800000\n",
       "Olimpiadas París 2024                95.666667\n",
       "Primarias republicanas               92.500000\n",
       "Procesamiento de Trump               91.000000\n",
       "Protestas COVID cero                 93.500000\n",
       "Protestas George Floyd               92.333333\n",
       "Renuncia Boris Johnson               93.500000\n",
       "Submarino Titanic desaparecido       93.500000\n",
       "Terremoto en Turquía y Siria         90.750000\n",
       "Tiroteo Uvalde                       97.500000\n",
       "Variante Omicron descubierta         97.000000\n",
       "Victoria de Trump                    86.333333\n",
       "Name: interes, dtype: float64"
      ]
     },
     "metadata": {},
     "output_type": "display_data"
    },
    {
     "name": "stdout",
     "output_type": "stream",
     "text": [
      "\n",
      " Top 5 Eventos con mayor interés máximo registrado:\n"
     ]
    },
    {
     "data": {
      "text/plain": [
       "evento\n",
       "Aniversario 6 enero       85\n",
       "Asalto al Capitolio      100\n",
       "Ataque de Hamas          100\n",
       "Atentado Moscú           100\n",
       "Atentado contra Trump    100\n",
       "Name: interes, dtype: int64"
      ]
     },
     "metadata": {},
     "output_type": "display_data"
    }
   ],
   "source": [
    "# ==============================\n",
    "#     Analisis Exploratorio\n",
    "# ==============================\n",
    "print(\"\\nInterés promedio por evento:\")\n",
    "display(df.groupby('evento')['interes'].mean())\n",
    "\n",
    "print(\"\\n Top 5 Eventos con mayor interés máximo registrado:\")\n",
    "display(df.groupby('evento')['interes'].max().head())"
   ]
  },
  {
   "cell_type": "code",
   "execution_count": 38,
   "id": "b49e2392",
   "metadata": {},
   "outputs": [
    {
     "name": "stdout",
     "output_type": "stream",
     "text": [
      "Archivo exportado para Power BI: powerbi/google_dataset.csv\n"
     ]
    }
   ],
   "source": [
    "# ==============================\n",
    "#   Exportación para Power BI\n",
    "# ==============================\n",
    "\n",
    "df.to_csv(\"../powerbi/google_dataset.csv\", index=False)\n",
    "print(\"Archivo exportado para Power BI: powerbi/google_dataset.csv\")"
   ]
  }
 ],
 "metadata": {
  "kernelspec": {
   "display_name": "base",
   "language": "python",
   "name": "python3"
  },
  "language_info": {
   "codemirror_mode": {
    "name": "ipython",
    "version": 3
   },
   "file_extension": ".py",
   "mimetype": "text/x-python",
   "name": "python",
   "nbconvert_exporter": "python",
   "pygments_lexer": "ipython3",
   "version": "3.13.5"
  }
 },
 "nbformat": 4,
 "nbformat_minor": 5
}
